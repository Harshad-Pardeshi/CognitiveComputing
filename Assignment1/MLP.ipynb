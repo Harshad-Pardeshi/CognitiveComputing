{
 "cells": [
  {
   "cell_type": "code",
   "execution_count": null,
   "metadata": {
    "collapsed": true
   },
   "outputs": [],
   "source": []
  },
  {
   "cell_type": "code",
   "execution_count": 34,
   "metadata": {
    "collapsed": true
   },
   "outputs": [],
   "source": [
    "import keras\n",
    "import numpy as np\n",
    "from keras.datasets import mnist\n",
    "from keras.models import Sequential\n",
    "from keras.layers import Dense, Dropout\n",
    "from keras.optimizers import RMSprop\n",
    "import tensorflow as tf"
   ]
  },
  {
   "cell_type": "code",
   "execution_count": 35,
   "metadata": {
    "collapsed": true
   },
   "outputs": [],
   "source": [
    "def unpickle(file):\n",
    "    import pickle\n",
    "    with open(file, 'rb') as fo:\n",
    "        dict = pickle.load(fo, encoding='bytes')\n",
    "    return dict"
   ]
  },
  {
   "cell_type": "code",
   "execution_count": 36,
   "metadata": {
    "collapsed": true
   },
   "outputs": [],
   "source": [
    "import os\n",
    "train_data = []\n",
    "train_label = []\n",
    "for k in os.listdir(\"C://Users//Pratik Patre//Downloads//cifar-10-batches-py\"):\n",
    "    if k[0:4] == 'data':\n",
    "        d = unpickle(\"C://Users//Pratik Patre//Downloads//cifar-10-batches-py/\" + k)\n",
    "        for keys,values in d.items():\n",
    "            if keys == b'labels':\n",
    "                label = values\n",
    "            if keys == b'data':\n",
    "                data = values\n",
    "        for i in label:\n",
    "            train_label.append(i)\n",
    "        for j in data:\n",
    "            train_data.append(j)\n",
    "        \n",
    "    if k[0:4] == 'test':\n",
    "        test = unpickle(\"C://Users//Pratik Patre//Downloads//cifar-10-batches-py/\" + k)"
   ]
  },
  {
   "cell_type": "code",
   "execution_count": 37,
   "metadata": {
    "collapsed": true
   },
   "outputs": [],
   "source": [
    "train_data = np.asarray(train_data)"
   ]
  },
  {
   "cell_type": "code",
   "execution_count": 50,
   "metadata": {},
   "outputs": [
    {
     "data": {
      "text/plain": [
       "array([ 0.60392159,  0.49411765,  0.41176471, ...,  0.54509807,\n",
       "        0.55686277,  0.56470591], dtype=float32)"
      ]
     },
     "execution_count": 50,
     "metadata": {},
     "output_type": "execute_result"
    }
   ],
   "source": [
    "train_data[1]"
   ]
  },
  {
   "cell_type": "code",
   "execution_count": 38,
   "metadata": {
    "collapsed": true
   },
   "outputs": [],
   "source": [
    "train_label = np.asarray(train_label)"
   ]
  },
  {
   "cell_type": "code",
   "execution_count": 39,
   "metadata": {},
   "outputs": [
    {
     "data": {
      "text/plain": [
       "(50000, 3072)"
      ]
     },
     "execution_count": 39,
     "metadata": {},
     "output_type": "execute_result"
    }
   ],
   "source": [
    "train_data.shape"
   ]
  },
  {
   "cell_type": "code",
   "execution_count": 40,
   "metadata": {},
   "outputs": [
    {
     "data": {
      "text/plain": [
       "(50000,)"
      ]
     },
     "execution_count": 40,
     "metadata": {},
     "output_type": "execute_result"
    }
   ],
   "source": [
    "train_label.shape"
   ]
  },
  {
   "cell_type": "code",
   "execution_count": 41,
   "metadata": {
    "collapsed": true
   },
   "outputs": [],
   "source": [
    "train_data = train_data.astype('float32')\n",
    "train_data /= 255"
   ]
  },
  {
   "cell_type": "code",
   "execution_count": 42,
   "metadata": {
    "collapsed": true
   },
   "outputs": [],
   "source": [
    "batch_size = 512\n",
    "\n",
    "num_classes = 10\n",
    "\n",
    "epochs = 20\n",
    "train_label = keras.utils.to_categorical(train_label, num_classes)"
   ]
  },
  {
   "cell_type": "code",
   "execution_count": 43,
   "metadata": {
    "collapsed": true
   },
   "outputs": [],
   "source": [
    "for keys,values in test.items():\n",
    "    if keys == b'labels':\n",
    "        test_label = values\n",
    "    if keys == b'data':\n",
    "        test_data = values"
   ]
  },
  {
   "cell_type": "code",
   "execution_count": 44,
   "metadata": {
    "collapsed": true
   },
   "outputs": [],
   "source": [
    "test_label = np.asarray(test_label)"
   ]
  },
  {
   "cell_type": "code",
   "execution_count": 45,
   "metadata": {},
   "outputs": [
    {
     "data": {
      "text/plain": [
       "(10000, 3072)"
      ]
     },
     "execution_count": 45,
     "metadata": {},
     "output_type": "execute_result"
    }
   ],
   "source": [
    "test_data.shape"
   ]
  },
  {
   "cell_type": "code",
   "execution_count": 46,
   "metadata": {},
   "outputs": [
    {
     "data": {
      "text/plain": [
       "(10000,)"
      ]
     },
     "execution_count": 46,
     "metadata": {},
     "output_type": "execute_result"
    }
   ],
   "source": [
    "test_label.shape"
   ]
  },
  {
   "cell_type": "code",
   "execution_count": 47,
   "metadata": {
    "collapsed": true
   },
   "outputs": [],
   "source": [
    "test_data = test_data.astype('float32')\n",
    "test_data /= 255"
   ]
  },
  {
   "cell_type": "code",
   "execution_count": 48,
   "metadata": {
    "collapsed": true
   },
   "outputs": [],
   "source": [
    "test_label = keras.utils.to_categorical(test_label, num_classes)"
   ]
  },
  {
   "cell_type": "code",
   "execution_count": 49,
   "metadata": {},
   "outputs": [
    {
     "name": "stdout",
     "output_type": "stream",
     "text": [
      "_________________________________________________________________\n",
      "Layer (type)                 Output Shape              Param #   \n",
      "=================================================================\n",
      "dense_13 (Dense)             (None, 1536)              4720128   \n",
      "_________________________________________________________________\n",
      "dropout_9 (Dropout)          (None, 1536)              0         \n",
      "_________________________________________________________________\n",
      "dense_14 (Dense)             (None, 1536)              2360832   \n",
      "_________________________________________________________________\n",
      "dropout_10 (Dropout)         (None, 1536)              0         \n",
      "_________________________________________________________________\n",
      "dense_15 (Dense)             (None, 10)                15370     \n",
      "=================================================================\n",
      "Total params: 7,096,330\n",
      "Trainable params: 7,096,330\n",
      "Non-trainable params: 0\n",
      "_________________________________________________________________\n",
      "Train on 50000 samples, validate on 10000 samples\n",
      "Epoch 1/20\n",
      "50000/50000 [==============================] - 98s 2ms/step - loss: 2.0327 - acc: 0.2611 - val_loss: 1.9742 - val_acc: 0.3111\n",
      "Epoch 2/20\n",
      "50000/50000 [==============================] - 97s 2ms/step - loss: 1.8516 - acc: 0.3416 - val_loss: 1.7762 - val_acc: 0.3639\n",
      "Epoch 3/20\n",
      "50000/50000 [==============================] - 91s 2ms/step - loss: 1.7671 - acc: 0.3727 - val_loss: 1.7390 - val_acc: 0.3777\n",
      "Epoch 4/20\n",
      "50000/50000 [==============================] - 92s 2ms/step - loss: 1.7150 - acc: 0.3913 - val_loss: 1.6704 - val_acc: 0.4227\n",
      "Epoch 5/20\n",
      "50000/50000 [==============================] - 95s 2ms/step - loss: 1.6701 - acc: 0.4098 - val_loss: 1.6459 - val_acc: 0.4117\n",
      "Epoch 6/20\n",
      "50000/50000 [==============================] - 96s 2ms/step - loss: 1.6430 - acc: 0.4160 - val_loss: 1.6828 - val_acc: 0.4002\n",
      "Epoch 7/20\n",
      "50000/50000 [==============================] - 97s 2ms/step - loss: 1.6126 - acc: 0.4326 - val_loss: 1.5688 - val_acc: 0.4512\n",
      "Epoch 8/20\n",
      "50000/50000 [==============================] - 96s 2ms/step - loss: 1.5840 - acc: 0.4393 - val_loss: 1.5310 - val_acc: 0.4577\n",
      "Epoch 9/20\n",
      "50000/50000 [==============================] - 94s 2ms/step - loss: 1.5574 - acc: 0.4499 - val_loss: 1.5417 - val_acc: 0.4529\n",
      "Epoch 10/20\n",
      "50000/50000 [==============================] - 95s 2ms/step - loss: 1.5340 - acc: 0.4601 - val_loss: 1.5700 - val_acc: 0.4330\n",
      "Epoch 11/20\n",
      "50000/50000 [==============================] - 88s 2ms/step - loss: 1.5154 - acc: 0.4667 - val_loss: 1.5921 - val_acc: 0.4411\n",
      "Epoch 12/20\n",
      "50000/50000 [==============================] - 95s 2ms/step - loss: 1.4926 - acc: 0.4715 - val_loss: 1.5863 - val_acc: 0.4393\n",
      "Epoch 13/20\n",
      "50000/50000 [==============================] - 95s 2ms/step - loss: 1.4713 - acc: 0.4803 - val_loss: 1.4954 - val_acc: 0.4682\n",
      "Epoch 14/20\n",
      "50000/50000 [==============================] - 96s 2ms/step - loss: 1.4561 - acc: 0.4844 - val_loss: 1.4698 - val_acc: 0.4774\n",
      "Epoch 15/20\n",
      "50000/50000 [==============================] - 94s 2ms/step - loss: 1.4382 - acc: 0.4908 - val_loss: 1.4870 - val_acc: 0.4674\n",
      "Epoch 16/20\n",
      "50000/50000 [==============================] - 95s 2ms/step - loss: 1.4195 - acc: 0.4987 - val_loss: 1.4447 - val_acc: 0.4913\n",
      "Epoch 17/20\n",
      "50000/50000 [==============================] - 95s 2ms/step - loss: 1.4059 - acc: 0.5057 - val_loss: 1.5031 - val_acc: 0.4775\n",
      "Epoch 18/20\n",
      "50000/50000 [==============================] - 93s 2ms/step - loss: 1.3889 - acc: 0.5102 - val_loss: 1.4645 - val_acc: 0.4829\n",
      "Epoch 19/20\n",
      "50000/50000 [==============================] - 48s 967us/step - loss: 1.3733 - acc: 0.5168 - val_loss: 1.4456 - val_acc: 0.4759\n",
      "Epoch 20/20\n",
      "50000/50000 [==============================] - 52s 1ms/step - loss: 1.3585 - acc: 0.5191 - val_loss: 1.4438 - val_acc: 0.4951\n",
      "Test loss: 1.44381918716\n",
      "Test accuracy: 0.4951\n"
     ]
    }
   ],
   "source": [
    "model = Sequential()\n",
    "\n",
    "opt = keras.optimizers.rmsprop(lr=0.0001, decay=1e-6)\n",
    "\n",
    "model.add(Dense(1536, activation='relu', input_shape=(3072,)))\n",
    "\n",
    "model.add(Dropout(0.2))\n",
    "\n",
    "model.add(Dense(1536, activation='relu'))\n",
    "\n",
    "model.add(Dropout(0.2))\n",
    "\n",
    "model.add(Dense(num_classes, activation='softmax'))\n",
    "\n",
    "model.summary()\n",
    "\n",
    "model.compile(loss='categorical_crossentropy',\n",
    "              optimizer=opt,\n",
    "              metrics=['accuracy'])\n",
    "\n",
    "history = model.fit(train_data, train_label,\n",
    "                    batch_size=batch_size,\n",
    "                    epochs=epochs,\n",
    "                    verbose=1,\n",
    "                    validation_data=(test_data, test_label))\n",
    "\n",
    "score = model.evaluate(test_data, test_label, verbose=0)\n",
    "\n",
    "print('Test loss:', score[0])\n",
    "print('Test accuracy:', score[1])"
   ]
  },
  {
   "cell_type": "code",
   "execution_count": 51,
   "metadata": {},
   "outputs": [
    {
     "data": {
      "image/png": "[encoded data removed]",
      "text/plain": [
       "<matplotlib.figure.Figure at 0x28a804dc588>"
      ]
     },
     "metadata": {},
     "output_type": "display_data"
    }
   ],
   "source": [
    "import matplotlib.pyplot as plt\n",
    "\n",
    "acc = history.history['acc']\n",
    "val_acc = history.history['val_acc']\n",
    "loss = history.history['loss']\n",
    "val_loss = history.history['val_loss']\n",
    "\n",
    "epochs = range(1, len(acc) + 1)\n",
    "\n",
    "# \"bo\" is for \"blue dot\"\n",
    "plt.plot(epochs, loss, 'bo', label='Training loss')\n",
    "# b is for \"solid blue line\"\n",
    "plt.plot(epochs, val_loss, 'b', label='Validation loss')\n",
    "plt.title('Training and validation loss')\n",
    "plt.xlabel('Epochs')\n",
    "plt.ylabel('Loss')\n",
    "plt.legend()\n",
    "\n",
    "plt.show()"
   ]
  },
  {
   "cell_type": "code",
   "execution_count": 54,
   "metadata": {},
   "outputs": [
    {
     "data": {
      "image/png": "[encoded data removed]",
      "text/plain": [
       "<matplotlib.figure.Figure at 0x28a80562390>"
      ]
     },
     "metadata": {},
     "output_type": "display_data"
    }
   ],
   "source": [
    "plt.clf()   # clear figure\n",
    "acc_values = history.history['acc']\n",
    "val_acc_values = history.history['val_acc']\n",
    "\n",
    "plt.plot(epochs, acc, 'bo', label='Training acc')\n",
    "plt.plot(epochs, val_acc, 'b', label='Validation acc')\n",
    "plt.title('Training and validation accuracy')\n",
    "plt.xlabel('Epochs')\n",
    "plt.ylabel('Accuracy')\n",
    "plt.legend()\n",
    "\n",
    "plt.show()"
   ]
  },
  {
   "cell_type": "code",
   "execution_count": null,
   "metadata": {
    "collapsed": true
   },
   "outputs": [],
   "source": []
  }
 ],
 "metadata": {
  "kernelspec": {
   "display_name": "Python 3",
   "language": "python",
   "name": "python3"
  },
  "language_info": {
   "codemirror_mode": {
    "name": "ipython",
    "version": 3
   },
   "file_extension": ".py",
   "mimetype": "text/x-python",
   "name": "python",
   "nbconvert_exporter": "python",
   "pygments_lexer": "ipython3",
   "version": "3.6.0"
  }
 },
 "nbformat": 4,
 "nbformat_minor": 2
}
