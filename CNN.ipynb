{
 "cells": [
  {
   "cell_type": "code",
   "execution_count": 1,
   "metadata": {},
   "outputs": [
    {
     "name": "stderr",
     "output_type": "stream",
     "text": [
      "/home/ubuntu/anaconda3/envs/tensorflow_p36/lib/python3.6/site-packages/h5py/__init__.py:36: FutureWarning: Conversion of the second argument of issubdtype from `float` to `np.floating` is deprecated. In future, it will be treated as `np.float64 == np.dtype(float).type`.\n",
      "  from ._conv import register_converters as _register_converters\n",
      "Using TensorFlow backend.\n",
      "/home/ubuntu/anaconda3/envs/tensorflow_p36/lib/python3.6/site-packages/matplotlib/__init__.py:962: UserWarning: Duplicate key in file \"/home/ubuntu/.config/matplotlib/matplotlibrc\", line #2\n",
      "  (fname, cnt))\n",
      "/home/ubuntu/anaconda3/envs/tensorflow_p36/lib/python3.6/site-packages/matplotlib/__init__.py:962: UserWarning: Duplicate key in file \"/home/ubuntu/.config/matplotlib/matplotlibrc\", line #3\n",
      "  (fname, cnt))\n"
     ]
    }
   ],
   "source": [
    "from __future__ import print_function\n",
    "import keras\n",
    "import os\n",
    "import json\n",
    "import matplotlib.pyplot as plt\n",
    "import datetime\n",
    "from keras.datasets import cifar10\n",
    "from keras.preprocessing.image import ImageDataGenerator\n",
    "from keras.models import Sequential\n",
    "from keras.layers import Dense, Dropout, Activation, Flatten\n",
    "from keras.layers import Conv2D, MaxPooling2D\n",
    "from time import time\n",
    "from keras.callbacks import TensorBoard\n",
    "\n",
    "\n",
    "from keras.layers.convolutional import Convolution2D, MaxPooling2D\n",
    "from keras.layers import Activation, Flatten, Dense, Dropout\n",
    "from keras.layers.normalization import BatchNormalization\n",
    "from keras.utils import np_utils"
   ]
  },
  {
   "cell_type": "code",
   "execution_count": 2,
   "metadata": {},
   "outputs": [],
   "source": [
    "import matplotlib\n",
    "%matplotlib inline\n",
    "matplotlib.style.use('ggplot')"
   ]
  },
  {
   "cell_type": "code",
   "execution_count": 3,
   "metadata": {},
   "outputs": [],
   "source": [
    "# Create logfile.\n",
    "logfile = open(\"logs/Cifar10_CNN.log\", \"a\")\n",
    "def log_entry(s):\n",
    "    #print('Date now: %s' % datetime.datetime.now())\n",
    "\n",
    "    timestamp = '[%s] : ' % datetime.datetime.now()\n",
    "    log_line = timestamp + s + '\\n'\n",
    "    logfile.write(log_line)\n",
    "    logfile.flush()"
   ]
  },
  {
   "cell_type": "code",
   "execution_count": 4,
   "metadata": {},
   "outputs": [],
   "source": [
    "def parseFloat(x):\n",
    "    try:\n",
    "        x = float(x)\n",
    "    except:\n",
    "        x = 0\n",
    "        log_entry(\"Unable to conveert ot float\")\n",
    "    return x\n",
    "\n",
    "def convertToInt(x):\n",
    "    try:\n",
    "        x = int(x)\n",
    "    except:\n",
    "        x = 0\n",
    "        log_entry(\"Unable to conveert ot int\")\n",
    "    return x"
   ]
  },
  {
   "cell_type": "code",
   "execution_count": 5,
   "metadata": {},
   "outputs": [],
   "source": [
    "class Histories(keras.callbacks.Callback):\n",
    "    def on_train_begin(self, logs={}):\n",
    "        self.aucs = []\n",
    "        self.losses = []\n",
    "    def on_train_end(self, logs={}):\n",
    "        return\n",
    "    def on_epoch_begin(self, epoch, logs={}):\n",
    "        return\n",
    "\n",
    "    def on_epoch_end(self, epoch, logs={}):\n",
    "        self.losses.append(logs.get('loss'))\n",
    "        y_pred = self.model.predict(self.model.validation_data[0])\n",
    "        self.aucs.append(roc_auc_score(self.model.validation_data[1], y_pred))\n",
    "        return\n",
    "    def on_batch_begin(self, batch, logs={}):\n",
    "        return\n",
    "    def on_batch_end(self, batch, logs={}):\n",
    "        return"
   ]
  },
  {
   "cell_type": "code",
   "execution_count": 6,
   "metadata": {},
   "outputs": [],
   "source": [
    "#Start program by loading json file\n",
    "#log_entry(\"Reading json file\")\n",
    "\n",
    "#read parameters from config file\n",
    "with open('config/config.json') as json_file:    \n",
    "        json_data = json.load(json_file)\n",
    "\n",
    "log_entry(\"Json file loaded\")"
   ]
  },
  {
   "cell_type": "code",
   "execution_count": 7,
   "metadata": {},
   "outputs": [],
   "source": [
    "batch_size = convertToInt(json_data[\"batch_size\"])\n",
    "num_classes = convertToInt(json_data[\"num_classes\"])\n",
    "epochs = convertToInt(json_data[\"epochs\"])\n",
    "data_augmentation = json_data[\"data_augmentation\"]\n",
    "num_predictions = convertToInt(json_data[\"num_predictions\"])\n",
    "save_dir = os.path.join(os.getcwd(), 'saved_models')\n",
    "model_name = 'keras_cifar10_trained_model.h5'"
   ]
  },
  {
   "cell_type": "code",
   "execution_count": 8,
   "metadata": {},
   "outputs": [
    {
     "name": "stdout",
     "output_type": "stream",
     "text": [
      "x_train shape: (50000, 32, 32, 3)\n",
      "50000 train samples\n",
      "10000 test samples\n"
     ]
    }
   ],
   "source": [
    "# The data, shuffled and split between train and test sets:\n",
    "log_entry(\"Loading dataset\")\n",
    "(x_train, y_train), (x_test, y_test) = cifar10.load_data()\n",
    "print('x_train shape:', x_train.shape)\n",
    "print(x_train.shape[0], 'train samples')\n",
    "print(x_test.shape[0], 'test samples')\n"
   ]
  },
  {
   "cell_type": "code",
   "execution_count": 9,
   "metadata": {},
   "outputs": [],
   "source": [
    "# Convert class vectors to binary class matrices.\n",
    "log_entry(\"Convert class vectors to binary class matrices\")\n",
    "y_train = np_utils.to_categorical(y_train, num_classes)\n",
    "y_test = np_utils.to_categorical(y_test, num_classes)"
   ]
  },
  {
   "cell_type": "code",
   "execution_count": 10,
   "metadata": {},
   "outputs": [],
   "source": [
    "model = Sequential()\n",
    "model.add(Conv2D(32, (3, 3), padding='same',input_shape=x_train.shape[1:]))\n",
    "model.add(Activation('relu'))\n",
    "model.add(Conv2D(32, (3, 3)))\n",
    "model.add(Activation('relu'))\n",
    "model.add(MaxPooling2D(pool_size=(2, 2)))\n",
    "model.add(Dropout(0.25))"
   ]
  },
  {
   "cell_type": "code",
   "execution_count": 11,
   "metadata": {},
   "outputs": [],
   "source": [
    "model.add(Conv2D(64, (3, 3), padding='same'))\n",
    "model.add(Activation('relu'))\n",
    "model.add(Conv2D(64, (3, 3)))\n",
    "model.add(Activation('relu'))\n",
    "model.add(MaxPooling2D(pool_size=(2, 2)))\n",
    "model.add(Dropout(0.25))"
   ]
  },
  {
   "cell_type": "code",
   "execution_count": 12,
   "metadata": {},
   "outputs": [],
   "source": [
    "model.add(Flatten())\n",
    "model.add(Dense(512))\n",
    "model.add(Activation('relu'))\n",
    "model.add(Dropout(0.5))\n",
    "model.add(Dense(num_classes))\n",
    "model.add(Activation('softmax'))"
   ]
  },
  {
   "cell_type": "code",
   "execution_count": 13,
   "metadata": {},
   "outputs": [],
   "source": [
    "# initiate RMSprop optimizer\n",
    "log_entry(\"# initiate RMSprop optimizer\")\n",
    "opt = keras.optimizers.rmsprop(lr=0.0001, decay=1e-6)"
   ]
  },
  {
   "cell_type": "code",
   "execution_count": 14,
   "metadata": {},
   "outputs": [],
   "source": [
    "# Let's train the model using RMSprop\n",
    "model.compile(loss='categorical_crossentropy',\n",
    "              optimizer=opt,\n",
    "              metrics=['accuracy'])"
   ]
  },
  {
   "cell_type": "code",
   "execution_count": 15,
   "metadata": {},
   "outputs": [],
   "source": [
    "x_train = x_train.astype('float32')\n",
    "x_test = x_test.astype('float32')\n",
    "x_train /= 255\n",
    "x_test /= 255"
   ]
  },
  {
   "cell_type": "code",
   "execution_count": 16,
   "metadata": {},
   "outputs": [
    {
     "name": "stdout",
     "output_type": "stream",
     "text": [
      "Using real-time data augmentation.\n",
      "Epoch 1/100\n",
      "1563/1563 [==============================] - 26s 16ms/step - loss: 1.8411 - acc: 0.3243 - val_loss: 1.5920 - val_acc: 0.4183\n",
      "Epoch 2/100\n",
      "1563/1563 [==============================] - 24s 15ms/step - loss: 1.5735 - acc: 0.4260 - val_loss: 1.4214 - val_acc: 0.4855\n",
      "Epoch 3/100\n",
      "1563/1563 [==============================] - 22s 14ms/step - loss: 1.4475 - acc: 0.4764 - val_loss: 1.3024 - val_acc: 0.5355\n",
      "Epoch 4/100\n",
      "1563/1563 [==============================] - 25s 16ms/step - loss: 1.3550 - acc: 0.5142 - val_loss: 1.1641 - val_acc: 0.5875\n",
      "Epoch 5/100\n",
      "1563/1563 [==============================] - 25s 16ms/step - loss: 1.2791 - acc: 0.5430 - val_loss: 1.1073 - val_acc: 0.6109\n",
      "Epoch 6/100\n",
      "1563/1563 [==============================] - 25s 16ms/step - loss: 1.2043 - acc: 0.5718 - val_loss: 1.0303 - val_acc: 0.6397\n",
      "Epoch 7/100\n",
      "1563/1563 [==============================] - 25s 16ms/step - loss: 1.1541 - acc: 0.5910 - val_loss: 0.9962 - val_acc: 0.6503\n",
      "Epoch 8/100\n",
      "1563/1563 [==============================] - 24s 15ms/step - loss: 1.0992 - acc: 0.6119 - val_loss: 0.9554 - val_acc: 0.6608\n",
      "Epoch 9/100\n",
      "1563/1563 [==============================] - 25s 16ms/step - loss: 1.0644 - acc: 0.6249 - val_loss: 0.9288 - val_acc: 0.6775\n",
      "Epoch 10/100\n",
      "1563/1563 [==============================] - 24s 16ms/step - loss: 1.0320 - acc: 0.6373 - val_loss: 0.9097 - val_acc: 0.6741\n",
      "Epoch 11/100\n",
      "1563/1563 [==============================] - 25s 16ms/step - loss: 0.9999 - acc: 0.6500 - val_loss: 0.8485 - val_acc: 0.7036\n",
      "Epoch 12/100\n",
      "1563/1563 [==============================] - 25s 16ms/step - loss: 0.9772 - acc: 0.6560 - val_loss: 0.8418 - val_acc: 0.7061\n",
      "Epoch 13/100\n",
      "1563/1563 [==============================] - 25s 16ms/step - loss: 0.9596 - acc: 0.6640 - val_loss: 0.8095 - val_acc: 0.7144\n",
      "Epoch 14/100\n",
      "1563/1563 [==============================] - 25s 16ms/step - loss: 0.9330 - acc: 0.6750 - val_loss: 0.7898 - val_acc: 0.7277\n",
      "Epoch 15/100\n",
      "1563/1563 [==============================] - 25s 16ms/step - loss: 0.9189 - acc: 0.6780 - val_loss: 0.7714 - val_acc: 0.7283\n",
      "Epoch 16/100\n",
      "1563/1563 [==============================] - 24s 15ms/step - loss: 0.9009 - acc: 0.6835 - val_loss: 0.7744 - val_acc: 0.7324\n",
      "Epoch 17/100\n",
      "1563/1563 [==============================] - 24s 16ms/step - loss: 0.8898 - acc: 0.6890 - val_loss: 0.7707 - val_acc: 0.7294\n",
      "Epoch 18/100\n",
      "1563/1563 [==============================] - 24s 16ms/step - loss: 0.8737 - acc: 0.6935 - val_loss: 0.7589 - val_acc: 0.7369\n",
      "Epoch 19/100\n",
      "1563/1563 [==============================] - 25s 16ms/step - loss: 0.8620 - acc: 0.7001 - val_loss: 0.7242 - val_acc: 0.7461\n",
      "Epoch 20/100\n",
      "1563/1563 [==============================] - 25s 16ms/step - loss: 0.8552 - acc: 0.7031 - val_loss: 0.7289 - val_acc: 0.7456\n",
      "Epoch 21/100\n",
      "1563/1563 [==============================] - 23s 15ms/step - loss: 0.8446 - acc: 0.7054 - val_loss: 0.7099 - val_acc: 0.7529\n",
      "Epoch 22/100\n",
      "1563/1563 [==============================] - 23s 15ms/step - loss: 0.8428 - acc: 0.7084 - val_loss: 0.7039 - val_acc: 0.7566\n",
      "Epoch 23/100\n",
      "1563/1563 [==============================] - 25s 16ms/step - loss: 0.8366 - acc: 0.7092 - val_loss: 0.7017 - val_acc: 0.7546\n",
      "Epoch 24/100\n",
      "1563/1563 [==============================] - 25s 16ms/step - loss: 0.8258 - acc: 0.7154 - val_loss: 0.6964 - val_acc: 0.7569\n",
      "Epoch 25/100\n",
      "1563/1563 [==============================] - 25s 16ms/step - loss: 0.8180 - acc: 0.7177 - val_loss: 0.7059 - val_acc: 0.7602\n",
      "Epoch 26/100\n",
      "1563/1563 [==============================] - 25s 16ms/step - loss: 0.8136 - acc: 0.7191 - val_loss: 0.7104 - val_acc: 0.7574\n",
      "Epoch 27/100\n",
      "1563/1563 [==============================] - 25s 16ms/step - loss: 0.8116 - acc: 0.7221 - val_loss: 0.6863 - val_acc: 0.7658\n",
      "Epoch 28/100\n",
      "1563/1563 [==============================] - 24s 16ms/step - loss: 0.8096 - acc: 0.7227 - val_loss: 0.6924 - val_acc: 0.7618\n",
      "Epoch 29/100\n",
      "1563/1563 [==============================] - 25s 16ms/step - loss: 0.8021 - acc: 0.7255 - val_loss: 0.6789 - val_acc: 0.7740\n",
      "Epoch 30/100\n",
      "1563/1563 [==============================] - 25s 16ms/step - loss: 0.8012 - acc: 0.7249 - val_loss: 0.6776 - val_acc: 0.7697\n",
      "Epoch 31/100\n",
      "1563/1563 [==============================] - 25s 16ms/step - loss: 0.7939 - acc: 0.7280 - val_loss: 0.6833 - val_acc: 0.7672\n",
      "Epoch 32/100\n",
      "1563/1563 [==============================] - 24s 15ms/step - loss: 0.7928 - acc: 0.7303 - val_loss: 0.6555 - val_acc: 0.7770\n",
      "Epoch 33/100\n",
      "1563/1563 [==============================] - 25s 16ms/step - loss: 0.7905 - acc: 0.7322 - val_loss: 0.6624 - val_acc: 0.7751\n",
      "Epoch 34/100\n",
      "1563/1563 [==============================] - 25s 16ms/step - loss: 0.7876 - acc: 0.7315 - val_loss: 0.7072 - val_acc: 0.7689\n",
      "Epoch 35/100\n",
      "1563/1563 [==============================] - 25s 16ms/step - loss: 0.7795 - acc: 0.7341 - val_loss: 0.6828 - val_acc: 0.7756\n",
      "Epoch 36/100\n",
      "1563/1563 [==============================] - 24s 16ms/step - loss: 0.7778 - acc: 0.7324 - val_loss: 0.6368 - val_acc: 0.7837\n",
      "Epoch 37/100\n",
      "1563/1563 [==============================] - 24s 15ms/step - loss: 0.7790 - acc: 0.7353 - val_loss: 0.6472 - val_acc: 0.7811\n",
      "Epoch 38/100\n",
      "1563/1563 [==============================] - 25s 16ms/step - loss: 0.7762 - acc: 0.7368 - val_loss: 0.6550 - val_acc: 0.7803\n",
      "Epoch 39/100\n",
      "1563/1563 [==============================] - 24s 15ms/step - loss: 0.7712 - acc: 0.7364 - val_loss: 0.6665 - val_acc: 0.7749\n",
      "Epoch 40/100\n",
      "1563/1563 [==============================] - 24s 15ms/step - loss: 0.7662 - acc: 0.7392 - val_loss: 0.6373 - val_acc: 0.7811\n",
      "Epoch 41/100\n",
      "1563/1563 [==============================] - 25s 16ms/step - loss: 0.7676 - acc: 0.7381 - val_loss: 0.6386 - val_acc: 0.7839\n",
      "Epoch 42/100\n",
      "1563/1563 [==============================] - 24s 15ms/step - loss: 0.7660 - acc: 0.7401 - val_loss: 0.7108 - val_acc: 0.7745\n",
      "Epoch 43/100\n",
      "1563/1563 [==============================] - 25s 16ms/step - loss: 0.7657 - acc: 0.7394 - val_loss: 0.6315 - val_acc: 0.7899\n",
      "Epoch 44/100\n",
      "1563/1563 [==============================] - 25s 16ms/step - loss: 0.7685 - acc: 0.7406 - val_loss: 0.6586 - val_acc: 0.7817\n",
      "Epoch 45/100\n",
      "1563/1563 [==============================] - 24s 15ms/step - loss: 0.7611 - acc: 0.7445 - val_loss: 0.6415 - val_acc: 0.7916\n",
      "Epoch 46/100\n",
      "1563/1563 [==============================] - 23s 15ms/step - loss: 0.7647 - acc: 0.7433 - val_loss: 0.6121 - val_acc: 0.7915\n",
      "Epoch 47/100\n",
      "1563/1563 [==============================] - 25s 16ms/step - loss: 0.7627 - acc: 0.7427 - val_loss: 0.6370 - val_acc: 0.7926\n",
      "Epoch 48/100\n",
      "1563/1563 [==============================] - 25s 16ms/step - loss: 0.7588 - acc: 0.7438 - val_loss: 0.6663 - val_acc: 0.7776\n",
      "Epoch 49/100\n",
      "1563/1563 [==============================] - 24s 15ms/step - loss: 0.7484 - acc: 0.7470 - val_loss: 0.6512 - val_acc: 0.7865\n",
      "Epoch 50/100\n",
      "1563/1563 [==============================] - 25s 16ms/step - loss: 0.7600 - acc: 0.7447 - val_loss: 0.6595 - val_acc: 0.7758\n",
      "Epoch 51/100\n",
      "1563/1563 [==============================] - 24s 16ms/step - loss: 0.7535 - acc: 0.7468 - val_loss: 0.6237 - val_acc: 0.7974\n",
      "Epoch 52/100\n",
      "1563/1563 [==============================] - 23s 15ms/step - loss: 0.7534 - acc: 0.7452 - val_loss: 0.6611 - val_acc: 0.7810\n",
      "Epoch 53/100\n",
      "1563/1563 [==============================] - 25s 16ms/step - loss: 0.7484 - acc: 0.7485 - val_loss: 0.6684 - val_acc: 0.7808\n",
      "Epoch 54/100\n",
      "1563/1563 [==============================] - 24s 16ms/step - loss: 0.7559 - acc: 0.7461 - val_loss: 0.6375 - val_acc: 0.7919\n",
      "Epoch 55/100\n",
      "1563/1563 [==============================] - 24s 15ms/step - loss: 0.7454 - acc: 0.7500 - val_loss: 0.6524 - val_acc: 0.7894\n",
      "Epoch 56/100\n",
      "1563/1563 [==============================] - 24s 15ms/step - loss: 0.7440 - acc: 0.7496 - val_loss: 0.6236 - val_acc: 0.7929\n",
      "Epoch 57/100\n",
      "1563/1563 [==============================] - 24s 16ms/step - loss: 0.7414 - acc: 0.7521 - val_loss: 0.6435 - val_acc: 0.7915\n",
      "Epoch 58/100\n",
      "1563/1563 [==============================] - 24s 15ms/step - loss: 0.7399 - acc: 0.7533 - val_loss: 0.6446 - val_acc: 0.8005\n",
      "Epoch 63/100\n",
      "1563/1563 [==============================] - 24s 16ms/step - loss: 0.7403 - acc: 0.7518 - val_loss: 0.6466 - val_acc: 0.7895\n",
      "Epoch 64/100\n"
     ]
    },
    {
     "name": "stdout",
     "output_type": "stream",
     "text": [
      "1563/1563 [==============================] - 25s 16ms/step - loss: 0.7484 - acc: 0.7499 - val_loss: 0.6514 - val_acc: 0.7879\n",
      "Epoch 65/100\n",
      "1563/1563 [==============================] - 23s 15ms/step - loss: 0.7460 - acc: 0.7499 - val_loss: 0.6308 - val_acc: 0.7989\n",
      "Epoch 66/100\n",
      "1563/1563 [==============================] - 24s 16ms/step - loss: 0.7495 - acc: 0.7511 - val_loss: 0.6561 - val_acc: 0.7906\n",
      "Epoch 67/100\n",
      "1563/1563 [==============================] - 23s 15ms/step - loss: 0.7454 - acc: 0.7490 - val_loss: 0.6312 - val_acc: 0.7964\n",
      "Epoch 68/100\n",
      "1563/1563 [==============================] - 25s 16ms/step - loss: 0.7481 - acc: 0.7503 - val_loss: 0.6338 - val_acc: 0.7986\n",
      "Epoch 69/100\n",
      "1563/1563 [==============================] - 24s 15ms/step - loss: 0.7433 - acc: 0.7522 - val_loss: 0.6804 - val_acc: 0.7798\n",
      "Epoch 70/100\n",
      " 607/1563 [==========>...................] - ETA: 13s - loss: 0.7425 - acc: 0.7510"
     ]
    },
    {
     "name": "stderr",
     "output_type": "stream",
     "text": [
      "IOPub message rate exceeded.\n",
      "The notebook server will temporarily stop sending output\n",
      "to the client in order to avoid crashing it.\n",
      "To change this limit, set the config variable\n",
      "`--NotebookApp.iopub_msg_rate_limit`.\n",
      "\n",
      "Current values:\n",
      "NotebookApp.iopub_msg_rate_limit=1000.0 (msgs/sec)\n",
      "NotebookApp.rate_limit_window=3.0 (secs)\n",
      "\n"
     ]
    },
    {
     "name": "stdout",
     "output_type": "stream",
     "text": [
      "1563/1563 [==============================] - 25s 16ms/step - loss: 0.7531 - acc: 0.7491 - val_loss: 0.7178 - val_acc: 0.7622\n",
      "Epoch 75/100\n",
      "1563/1563 [==============================] - 24s 16ms/step - loss: 0.7532 - acc: 0.7483 - val_loss: 0.6435 - val_acc: 0.7865\n",
      "Epoch 76/100\n",
      "1563/1563 [==============================] - 25s 16ms/step - loss: 0.7497 - acc: 0.7492 - val_loss: 0.6660 - val_acc: 0.7882\n",
      "Epoch 77/100\n",
      "1563/1563 [==============================] - 25s 16ms/step - loss: 0.7508 - acc: 0.7492 - val_loss: 0.7327 - val_acc: 0.7768\n",
      "Epoch 78/100\n",
      "1563/1563 [==============================] - 25s 16ms/step - loss: 0.7540 - acc: 0.7512 - val_loss: 0.6227 - val_acc: 0.7992\n",
      "Epoch 79/100\n",
      "1563/1563 [==============================] - 24s 16ms/step - loss: 0.7534 - acc: 0.7529 - val_loss: 0.6703 - val_acc: 0.7918\n",
      "Epoch 80/100\n",
      "1563/1563 [==============================] - 24s 15ms/step - loss: 0.7561 - acc: 0.7502 - val_loss: 0.6561 - val_acc: 0.7919\n",
      "Epoch 81/100\n",
      "1563/1563 [==============================] - 24s 16ms/step - loss: 0.7520 - acc: 0.7512 - val_loss: 0.6778 - val_acc: 0.7772\n",
      "Epoch 82/100\n",
      "1563/1563 [==============================] - 25s 16ms/step - loss: 0.7602 - acc: 0.7492 - val_loss: 0.6745 - val_acc: 0.7845\n",
      "Epoch 83/100\n",
      "1563/1563 [==============================] - 24s 16ms/step - loss: 0.7535 - acc: 0.7520 - val_loss: 0.6521 - val_acc: 0.7903\n",
      "Epoch 84/100\n",
      "1563/1563 [==============================] - 24s 15ms/step - loss: 0.7587 - acc: 0.7478 - val_loss: 0.6660 - val_acc: 0.7919\n",
      "Epoch 85/100\n",
      "1563/1563 [==============================] - 25s 16ms/step - loss: 0.7604 - acc: 0.7506 - val_loss: 0.6417 - val_acc: 0.7949\n",
      "Epoch 86/100\n",
      "1563/1563 [==============================] - 23s 15ms/step - loss: 0.7589 - acc: 0.7476 - val_loss: 0.6755 - val_acc: 0.7746\n",
      "Epoch 87/100\n",
      "1563/1563 [==============================] - 24s 16ms/step - loss: 0.7622 - acc: 0.7489 - val_loss: 0.6690 - val_acc: 0.7949\n",
      "Epoch 88/100\n",
      "1563/1563 [==============================] - 24s 15ms/step - loss: 0.7625 - acc: 0.7477 - val_loss: 0.6375 - val_acc: 0.7929\n",
      "Epoch 89/100\n",
      "1563/1563 [==============================] - 24s 15ms/step - loss: 0.7636 - acc: 0.7476 - val_loss: 0.7348 - val_acc: 0.7832\n",
      "Epoch 90/100\n",
      "1563/1563 [==============================] - 24s 16ms/step - loss: 0.7679 - acc: 0.7467 - val_loss: 0.6966 - val_acc: 0.7761\n",
      "Epoch 91/100\n",
      "1563/1563 [==============================] - 24s 15ms/step - loss: 0.7707 - acc: 0.7462 - val_loss: 0.6848 - val_acc: 0.7725\n",
      "Epoch 92/100\n",
      "1563/1563 [==============================] - 25s 16ms/step - loss: 0.7634 - acc: 0.7489 - val_loss: 0.6263 - val_acc: 0.8036\n",
      "Epoch 93/100\n",
      "1563/1563 [==============================] - 24s 15ms/step - loss: 0.7624 - acc: 0.7519 - val_loss: 0.6614 - val_acc: 0.7942\n",
      "Epoch 94/100\n",
      "1563/1563 [==============================] - 25s 16ms/step - loss: 0.7712 - acc: 0.7469 - val_loss: 0.7218 - val_acc: 0.7901\n",
      "Epoch 95/100\n",
      "1563/1563 [==============================] - 21s 13ms/step - loss: 0.7780 - acc: 0.7461 - val_loss: 0.6319 - val_acc: 0.7987\n",
      "Epoch 96/100\n",
      "1563/1563 [==============================] - 25s 16ms/step - loss: 0.7661 - acc: 0.7455 - val_loss: 0.7086 - val_acc: 0.7943\n",
      "Epoch 97/100\n",
      "1563/1563 [==============================] - 24s 15ms/step - loss: 0.7848 - acc: 0.7433 - val_loss: 0.6900 - val_acc: 0.7849\n",
      "Epoch 98/100\n",
      "1563/1563 [==============================] - 25s 16ms/step - loss: 0.7864 - acc: 0.7417 - val_loss: 0.7643 - val_acc: 0.7927\n",
      "Epoch 99/100\n",
      "1563/1563 [==============================] - 25s 16ms/step - loss: 0.7835 - acc: 0.7423 - val_loss: 0.6943 - val_acc: 0.7843\n",
      "Epoch 100/100\n",
      "1563/1563 [==============================] - 27s 17ms/step - loss: 0.7872 - acc: 0.7420 - val_loss: 0.7058 - val_acc: 0.7881\n"
     ]
    }
   ],
   "source": [
    "log_entry(\"start training model\")\n",
    "if not data_augmentation:\n",
    "    print('Not using data augmentation.')\n",
    "    history = model.fit(x_train, y_train,\n",
    "              batch_size=batch_size,\n",
    "              epochs=epochs,\n",
    "              validation_data=(x_test, y_test),\n",
    "              shuffle=True)\n",
    "else:\n",
    "    print('Using real-time data augmentation.')\n",
    "    # This will do preprocessing and realtime data augmentation:\n",
    "    datagen = ImageDataGenerator(\n",
    "        featurewise_center=False,  # set input mean to 0 over the dataset\n",
    "        samplewise_center=False,  # set each sample mean to 0\n",
    "        featurewise_std_normalization=False,  # divide inputs by std of the dataset\n",
    "        samplewise_std_normalization=False,  # divide each input by its std\n",
    "        zca_whitening=False,  # apply ZCA whitening\n",
    "        rotation_range=0,  # randomly rotate images in the range (degrees, 0 to 180)\n",
    "        width_shift_range=0.1,  # randomly shift images horizontally (fraction of total width)\n",
    "        height_shift_range=0.1,  # randomly shift images vertically (fraction of total height)\n",
    "        horizontal_flip=True,  # randomly flip images\n",
    "        vertical_flip=False)  # randomly flip images\n",
    "\n",
    "    # Compute quantities required for feature-wise normalization\n",
    "    # (std, mean, and principal components if ZCA whitening is applied).\n",
    "    datagen.fit(x_train)\n",
    "\n",
    "    tensorboard = TensorBoard(log_dir=\"logs/{}\".format(time()),histogram_freq=0,write_graph=True, write_images=True)\n",
    "    \n",
    "    # Fit the model on the batches generated by datagen.flow().\n",
    "    history = model.fit_generator(datagen.flow(x_train, y_train,\n",
    "                                     batch_size=batch_size),\n",
    "                        epochs=epochs,\n",
    "                        validation_data=(x_test, y_test),\n",
    "                        workers=4, callbacks=[tensorboard])"
   ]
  },
  {
   "cell_type": "code",
   "execution_count": 17,
   "metadata": {},
   "outputs": [
    {
     "data": {
      "text/plain": [
       "dict_keys(['val_loss', 'val_acc', 'loss', 'acc'])"
      ]
     },
     "execution_count": 17,
     "metadata": {},
     "output_type": "execute_result"
    }
   ],
   "source": [
    "history_dict = history.history\n",
    "history_dict.keys()"
   ]
  },
  {
   "cell_type": "code",
   "execution_count": 18,
   "metadata": {},
   "outputs": [
    {
     "data": {
      "image/png": "[encoded data removed]",
      "text/plain": [
       "<matplotlib.figure.Figure at 0x7f35574a5f60>"
      ]
     },
     "metadata": {},
     "output_type": "display_data"
    }
   ],
   "source": [
    "acc = history.history['acc']\n",
    "val_acc = history.history['val_acc']\n",
    "loss = history.history['loss']\n",
    "val_loss = history.history['val_loss']\n",
    "\n",
    "epochs = range(1, len(acc) + 1)\n",
    "\n",
    "# \"bo\" is for \"blue dot\"\n",
    "plt.plot(epochs, loss, 'bo', label='Training loss')\n",
    "# b is for \"solid blue line\"\n",
    "plt.plot(epochs, val_loss, 'b', label='Validation loss')\n",
    "plt.title('Training and validation loss')\n",
    "plt.xlabel('Epochs')\n",
    "plt.ylabel('Loss')\n",
    "plt.legend()\n",
    "\n",
    "plt.show()"
   ]
  },
  {
   "cell_type": "code",
   "execution_count": 19,
   "metadata": {},
   "outputs": [
    {
     "data": {
      "image/png": "[encoded data removed]",
      "text/plain": [
       "<matplotlib.figure.Figure at 0x7f35574a59e8>"
      ]
     },
     "metadata": {},
     "output_type": "display_data"
    }
   ],
   "source": [
    "plt.clf()   # clear figure\n",
    "acc_values = history_dict['acc']\n",
    "val_acc_values = history_dict['val_acc']\n",
    "\n",
    "plt.plot(epochs, acc, 'bo', label='Training acc')\n",
    "plt.plot(epochs, val_acc, 'b', label='Validation acc')\n",
    "plt.title('Training and validation accuracy')\n",
    "plt.xlabel('Epochs')\n",
    "plt.ylabel('Loss')\n",
    "plt.legend()\n",
    "\n",
    "plt.show()"
   ]
  },
  {
   "cell_type": "code",
   "execution_count": 20,
   "metadata": {},
   "outputs": [
    {
     "name": "stdout",
     "output_type": "stream",
     "text": [
      "Saved trained model at /home/ubuntu/ssl/saved_models/keras_cifar10_trained_model.h5 \n"
     ]
    }
   ],
   "source": [
    "if not os.path.isdir(save_dir):\n",
    "    os.makedirs(save_dir)\n",
    "model_path = os.path.join(save_dir, model_name)\n",
    "model.save(model_path)\n",
    "print('Saved trained model at %s ' % model_path)"
   ]
  },
  {
   "cell_type": "code",
   "execution_count": null,
   "metadata": {},
   "outputs": [],
   "source": [
    "# Score trained model.\n",
    "scores = model.evaluate(x_test, y_test, verbose=1)\n",
    "print('Test loss:', scores[0])\n",
    "print('Test accuracy:', scores[1])"
   ]
  }
 ],
 "metadata": {
  "kernelspec": {
   "display_name": "Environment (conda_tensorflow_p36)",
   "language": "python",
   "name": "conda_tensorflow_p36"
  },
  "language_info": {
   "codemirror_mode": {
    "name": "ipython",
    "version": 3
   },
   "file_extension": ".py",
   "mimetype": "text/x-python",
   "name": "python",
   "nbconvert_exporter": "python",
   "pygments_lexer": "ipython3",
   "version": "3.6.4"
  }
 },
 "nbformat": 4,
 "nbformat_minor": 2
}
